{
 "cells": [
  {
   "cell_type": "raw",
   "id": "0add5cc2",
   "metadata": {},
   "source": [
    "In this file we have done Exploratory Data Analysis. \n",
    "\n",
    "1. There are 42451 rows and 75 columns in the dataset. \n",
    "2. 95.15% of the listings are under $800. \n",
    "3. 30509 listings don't have a license. \n",
    "4. 2 listings don't have host name because the host web urls don't show anything so probably these hosts were deleted. \n",
    "5. 2 listings don't have names. \n",
    "6. 11942 don't have a review rating. \n",
    "7. Missing values were treated by removing records where review ratings and all other review related columns were null. \n",
    "8. Since this is scraped data some columns like scrape id, last scraped didn't add much to the analysis and were dropped. \n",
    "9. After cleaning we were left with 29053 rows and 68 columns. \n",
    "10. All the retained columns can be classified under six categories: identification, host, location, property, reviews and number of listings by host. We use the columns under these categories to make models. \n"
   ]
  },
  {
   "cell_type": "code",
   "execution_count": 4,
   "id": "4211c064",
   "metadata": {},
   "outputs": [],
   "source": [
    "import numpy as np\n",
    "import pandas as pd\n",
    "import matplotlib.pyplot as plt\n",
    "import seaborn as sns\n",
    "%matplotlib inline\n",
    "import re\n",
    "import io"
   ]
  },
  {
   "cell_type": "code",
   "execution_count": 5,
   "id": "aa1e260b",
   "metadata": {},
   "outputs": [],
   "source": [
    "file_path= \"C:/Users/DELL/Desktop/Erdos fresh/listings_mar7_2023.csv\""
   ]
  },
  {
   "cell_type": "code",
   "execution_count": 6,
   "id": "1cc5857f",
   "metadata": {
    "id": "1cc5857f"
   },
   "outputs": [],
   "source": [
    "listings= pd.read_csv(file_path,parse_dates=['last_scraped', 'host_since', 'calendar_last_scraped', 'first_review', 'last_review'])"
   ]
  },
  {
   "cell_type": "code",
   "execution_count": 52,
   "id": "5bbsHUXZUak_",
   "metadata": {
    "colab": {
     "base_uri": "https://localhost:8080/",
     "height": 577
    },
    "id": "5bbsHUXZUak_",
    "outputId": "4d85caf6-07d8-446a-832e-32c14018418e"
   },
   "outputs": [
    {
     "data": {
      "text/html": [
       "<div>\n",
       "<style scoped>\n",
       "    .dataframe tbody tr th:only-of-type {\n",
       "        vertical-align: middle;\n",
       "    }\n",
       "\n",
       "    .dataframe tbody tr th {\n",
       "        vertical-align: top;\n",
       "    }\n",
       "\n",
       "    .dataframe thead th {\n",
       "        text-align: right;\n",
       "    }\n",
       "</style>\n",
       "<table border=\"1\" class=\"dataframe\">\n",
       "  <thead>\n",
       "    <tr style=\"text-align: right;\">\n",
       "      <th></th>\n",
       "      <th>id</th>\n",
       "      <th>listing_url</th>\n",
       "      <th>scrape_id</th>\n",
       "      <th>last_scraped</th>\n",
       "      <th>source</th>\n",
       "      <th>name</th>\n",
       "      <th>description</th>\n",
       "      <th>neighborhood_overview</th>\n",
       "      <th>picture_url</th>\n",
       "      <th>host_id</th>\n",
       "      <th>...</th>\n",
       "      <th>review_scores_communication</th>\n",
       "      <th>review_scores_location</th>\n",
       "      <th>review_scores_value</th>\n",
       "      <th>license</th>\n",
       "      <th>instant_bookable</th>\n",
       "      <th>calculated_host_listings_count</th>\n",
       "      <th>calculated_host_listings_count_entire_homes</th>\n",
       "      <th>calculated_host_listings_count_private_rooms</th>\n",
       "      <th>calculated_host_listings_count_shared_rooms</th>\n",
       "      <th>reviews_per_month</th>\n",
       "    </tr>\n",
       "  </thead>\n",
       "  <tbody>\n",
       "    <tr>\n",
       "      <th>0</th>\n",
       "      <td>777451666060243581</td>\n",
       "      <td>https://www.airbnb.com/rooms/777451666060243581</td>\n",
       "      <td>20230307175359</td>\n",
       "      <td>2023-03-07</td>\n",
       "      <td>city scrape</td>\n",
       "      <td>Family oriented home</td>\n",
       "      <td>Relax with the whole family at this peaceful p...</td>\n",
       "      <td>NaN</td>\n",
       "      <td>https://a0.muscache.com/pictures/miso/Hosting-...</td>\n",
       "      <td>490709958</td>\n",
       "      <td>...</td>\n",
       "      <td>NaN</td>\n",
       "      <td>NaN</td>\n",
       "      <td>NaN</td>\n",
       "      <td>NaN</td>\n",
       "      <td>f</td>\n",
       "      <td>1</td>\n",
       "      <td>0</td>\n",
       "      <td>1</td>\n",
       "      <td>0</td>\n",
       "      <td>NaN</td>\n",
       "    </tr>\n",
       "    <tr>\n",
       "      <th>1</th>\n",
       "      <td>698097753730921190</td>\n",
       "      <td>https://www.airbnb.com/rooms/698097753730921190</td>\n",
       "      <td>20230307175359</td>\n",
       "      <td>2023-03-07</td>\n",
       "      <td>city scrape</td>\n",
       "      <td>方便易居驿站</td>\n",
       "      <td>NaN</td>\n",
       "      <td>NaN</td>\n",
       "      <td>https://a0.muscache.com/pictures/d5afff58-d576...</td>\n",
       "      <td>444692513</td>\n",
       "      <td>...</td>\n",
       "      <td>5.00</td>\n",
       "      <td>5.00</td>\n",
       "      <td>4.40</td>\n",
       "      <td>NaN</td>\n",
       "      <td>f</td>\n",
       "      <td>4</td>\n",
       "      <td>0</td>\n",
       "      <td>4</td>\n",
       "      <td>0</td>\n",
       "      <td>0.86</td>\n",
       "    </tr>\n",
       "    <tr>\n",
       "      <th>2</th>\n",
       "      <td>13063118</td>\n",
       "      <td>https://www.airbnb.com/rooms/13063118</td>\n",
       "      <td>20230307175359</td>\n",
       "      <td>2023-03-07</td>\n",
       "      <td>city scrape</td>\n",
       "      <td>TERRANEA OCEANFRNT 1BR CASITA -203 RSRT AMENIT...</td>\n",
       "      <td>LOCATION! Luxury upstairs Oceanside Casita gue...</td>\n",
       "      <td>No need to fly away from Los Angeles for a get...</td>\n",
       "      <td>https://a0.muscache.com/pictures/6227287c-7073...</td>\n",
       "      <td>41736985</td>\n",
       "      <td>...</td>\n",
       "      <td>4.96</td>\n",
       "      <td>4.92</td>\n",
       "      <td>4.83</td>\n",
       "      <td>NaN</td>\n",
       "      <td>f</td>\n",
       "      <td>10</td>\n",
       "      <td>5</td>\n",
       "      <td>5</td>\n",
       "      <td>0</td>\n",
       "      <td>0.64</td>\n",
       "    </tr>\n",
       "    <tr>\n",
       "      <th>3</th>\n",
       "      <td>39337076</td>\n",
       "      <td>https://www.airbnb.com/rooms/39337076</td>\n",
       "      <td>20230307175359</td>\n",
       "      <td>2023-03-07</td>\n",
       "      <td>city scrape</td>\n",
       "      <td>Brand New Duplex Near World Cruise Center</td>\n",
       "      <td>Welcome to our new cozy duplex!&lt;br /&gt;&lt;br /&gt;Loc...</td>\n",
       "      <td>Our property is close to downtown San Pedro, t...</td>\n",
       "      <td>https://a0.muscache.com/pictures/miso/Hosting-...</td>\n",
       "      <td>208375458</td>\n",
       "      <td>...</td>\n",
       "      <td>4.86</td>\n",
       "      <td>4.66</td>\n",
       "      <td>4.82</td>\n",
       "      <td>NaN</td>\n",
       "      <td>t</td>\n",
       "      <td>4</td>\n",
       "      <td>0</td>\n",
       "      <td>4</td>\n",
       "      <td>0</td>\n",
       "      <td>1.09</td>\n",
       "    </tr>\n",
       "    <tr>\n",
       "      <th>4</th>\n",
       "      <td>13077628</td>\n",
       "      <td>https://www.airbnb.com/rooms/13077628</td>\n",
       "      <td>20230307175359</td>\n",
       "      <td>2023-03-07</td>\n",
       "      <td>city scrape</td>\n",
       "      <td>Zuma Malibu Retreat</td>\n",
       "      <td>Our Private 16 Acre Malibu Retreat is located ...</td>\n",
       "      <td>NaN</td>\n",
       "      <td>https://a0.muscache.com/pictures/miso/Hosting-...</td>\n",
       "      <td>4182067</td>\n",
       "      <td>...</td>\n",
       "      <td>4.79</td>\n",
       "      <td>4.64</td>\n",
       "      <td>4.36</td>\n",
       "      <td>STR21-0228</td>\n",
       "      <td>f</td>\n",
       "      <td>1</td>\n",
       "      <td>1</td>\n",
       "      <td>0</td>\n",
       "      <td>0</td>\n",
       "      <td>0.18</td>\n",
       "    </tr>\n",
       "  </tbody>\n",
       "</table>\n",
       "<p>5 rows × 75 columns</p>\n",
       "</div>"
      ],
      "text/plain": [
       "                   id                                      listing_url  \\\n",
       "0  777451666060243581  https://www.airbnb.com/rooms/777451666060243581   \n",
       "1  698097753730921190  https://www.airbnb.com/rooms/698097753730921190   \n",
       "2            13063118            https://www.airbnb.com/rooms/13063118   \n",
       "3            39337076            https://www.airbnb.com/rooms/39337076   \n",
       "4            13077628            https://www.airbnb.com/rooms/13077628   \n",
       "\n",
       "        scrape_id last_scraped       source  \\\n",
       "0  20230307175359   2023-03-07  city scrape   \n",
       "1  20230307175359   2023-03-07  city scrape   \n",
       "2  20230307175359   2023-03-07  city scrape   \n",
       "3  20230307175359   2023-03-07  city scrape   \n",
       "4  20230307175359   2023-03-07  city scrape   \n",
       "\n",
       "                                                name  \\\n",
       "0                               Family oriented home   \n",
       "1                                             方便易居驿站   \n",
       "2  TERRANEA OCEANFRNT 1BR CASITA -203 RSRT AMENIT...   \n",
       "3          Brand New Duplex Near World Cruise Center   \n",
       "4                                Zuma Malibu Retreat   \n",
       "\n",
       "                                         description  \\\n",
       "0  Relax with the whole family at this peaceful p...   \n",
       "1                                                NaN   \n",
       "2  LOCATION! Luxury upstairs Oceanside Casita gue...   \n",
       "3  Welcome to our new cozy duplex!<br /><br />Loc...   \n",
       "4  Our Private 16 Acre Malibu Retreat is located ...   \n",
       "\n",
       "                               neighborhood_overview  \\\n",
       "0                                                NaN   \n",
       "1                                                NaN   \n",
       "2  No need to fly away from Los Angeles for a get...   \n",
       "3  Our property is close to downtown San Pedro, t...   \n",
       "4                                                NaN   \n",
       "\n",
       "                                         picture_url    host_id  ...  \\\n",
       "0  https://a0.muscache.com/pictures/miso/Hosting-...  490709958  ...   \n",
       "1  https://a0.muscache.com/pictures/d5afff58-d576...  444692513  ...   \n",
       "2  https://a0.muscache.com/pictures/6227287c-7073...   41736985  ...   \n",
       "3  https://a0.muscache.com/pictures/miso/Hosting-...  208375458  ...   \n",
       "4  https://a0.muscache.com/pictures/miso/Hosting-...    4182067  ...   \n",
       "\n",
       "  review_scores_communication review_scores_location review_scores_value  \\\n",
       "0                         NaN                    NaN                 NaN   \n",
       "1                        5.00                   5.00                4.40   \n",
       "2                        4.96                   4.92                4.83   \n",
       "3                        4.86                   4.66                4.82   \n",
       "4                        4.79                   4.64                4.36   \n",
       "\n",
       "      license instant_bookable calculated_host_listings_count  \\\n",
       "0         NaN                f                              1   \n",
       "1         NaN                f                              4   \n",
       "2         NaN                f                             10   \n",
       "3         NaN                t                              4   \n",
       "4  STR21-0228                f                              1   \n",
       "\n",
       "  calculated_host_listings_count_entire_homes  \\\n",
       "0                                           0   \n",
       "1                                           0   \n",
       "2                                           5   \n",
       "3                                           0   \n",
       "4                                           1   \n",
       "\n",
       "  calculated_host_listings_count_private_rooms  \\\n",
       "0                                            1   \n",
       "1                                            4   \n",
       "2                                            5   \n",
       "3                                            4   \n",
       "4                                            0   \n",
       "\n",
       "  calculated_host_listings_count_shared_rooms reviews_per_month  \n",
       "0                                           0               NaN  \n",
       "1                                           0              0.86  \n",
       "2                                           0              0.64  \n",
       "3                                           0              1.09  \n",
       "4                                           0              0.18  \n",
       "\n",
       "[5 rows x 75 columns]"
      ]
     },
     "execution_count": 52,
     "metadata": {},
     "output_type": "execute_result"
    }
   ],
   "source": [
    "#  Getting the top 5 records\n",
    " \n",
    "listings.head()"
   ]
  },
  {
   "cell_type": "code",
   "execution_count": 7,
   "id": "8a0ea76f",
   "metadata": {},
   "outputs": [
    {
     "data": {
      "text/plain": [
       "(42451, 75)"
      ]
     },
     "execution_count": 7,
     "metadata": {},
     "output_type": "execute_result"
    }
   ],
   "source": [
    "listings.shape"
   ]
  },
  {
   "cell_type": "code",
   "execution_count": 53,
   "id": "0daa145b",
   "metadata": {
    "colab": {
     "base_uri": "https://localhost:8080/"
    },
    "id": "0daa145b",
    "outputId": "b1a99559-e451-4035-d559-2c89e59adfca"
   },
   "outputs": [
    {
     "name": "stdout",
     "output_type": "stream",
     "text": [
      "<class 'pandas.core.frame.DataFrame'>\n",
      "RangeIndex: 42451 entries, 0 to 42450\n",
      "Data columns (total 75 columns):\n",
      " #   Column                                        Non-Null Count  Dtype         \n",
      "---  ------                                        --------------  -----         \n",
      " 0   id                                            42451 non-null  int64         \n",
      " 1   listing_url                                   42451 non-null  object        \n",
      " 2   scrape_id                                     42451 non-null  int64         \n",
      " 3   last_scraped                                  42451 non-null  datetime64[ns]\n",
      " 4   source                                        42451 non-null  object        \n",
      " 5   name                                          42449 non-null  object        \n",
      " 6   description                                   41701 non-null  object        \n",
      " 7   neighborhood_overview                         24957 non-null  object        \n",
      " 8   picture_url                                   42451 non-null  object        \n",
      " 9   host_id                                       42451 non-null  int64         \n",
      " 10  host_url                                      42451 non-null  object        \n",
      " 11  host_name                                     42449 non-null  object        \n",
      " 12  host_since                                    42449 non-null  datetime64[ns]\n",
      " 13  host_location                                 33989 non-null  object        \n",
      " 14  host_about                                    24627 non-null  object        \n",
      " 15  host_response_time                            33076 non-null  object        \n",
      " 16  host_response_rate                            33076 non-null  object        \n",
      " 17  host_acceptance_rate                          34108 non-null  object        \n",
      " 18  host_is_superhost                             42292 non-null  object        \n",
      " 19  host_thumbnail_url                            42449 non-null  object        \n",
      " 20  host_picture_url                              42449 non-null  object        \n",
      " 21  host_neighbourhood                            33704 non-null  object        \n",
      " 22  host_listings_count                           42449 non-null  float64       \n",
      " 23  host_total_listings_count                     42449 non-null  float64       \n",
      " 24  host_verifications                            42451 non-null  object        \n",
      " 25  host_has_profile_pic                          42449 non-null  object        \n",
      " 26  host_identity_verified                        42449 non-null  object        \n",
      " 27  neighbourhood                                 24958 non-null  object        \n",
      " 28  neighbourhood_cleansed                        42451 non-null  object        \n",
      " 29  neighbourhood_group_cleansed                  42451 non-null  object        \n",
      " 30  latitude                                      42451 non-null  float64       \n",
      " 31  longitude                                     42451 non-null  float64       \n",
      " 32  property_type                                 42451 non-null  object        \n",
      " 33  room_type                                     42451 non-null  object        \n",
      " 34  accommodates                                  42451 non-null  int64         \n",
      " 35  bathrooms                                     0 non-null      float64       \n",
      " 36  bathrooms_text                                42410 non-null  object        \n",
      " 37  bedrooms                                      38832 non-null  float64       \n",
      " 38  beds                                          41854 non-null  float64       \n",
      " 39  amenities                                     42451 non-null  object        \n",
      " 40  price                                         42451 non-null  object        \n",
      " 41  minimum_nights                                42451 non-null  int64         \n",
      " 42  maximum_nights                                42451 non-null  int64         \n",
      " 43  minimum_minimum_nights                        42446 non-null  float64       \n",
      " 44  maximum_minimum_nights                        42446 non-null  float64       \n",
      " 45  minimum_maximum_nights                        42446 non-null  float64       \n",
      " 46  maximum_maximum_nights                        42446 non-null  float64       \n",
      " 47  minimum_nights_avg_ntm                        42446 non-null  float64       \n",
      " 48  maximum_nights_avg_ntm                        42446 non-null  float64       \n",
      " 49  calendar_updated                              0 non-null      float64       \n",
      " 50  has_availability                              42451 non-null  object        \n",
      " 51  availability_30                               42451 non-null  int64         \n",
      " 52  availability_60                               42451 non-null  int64         \n",
      " 53  availability_90                               42451 non-null  int64         \n",
      " 54  availability_365                              42451 non-null  int64         \n",
      " 55  calendar_last_scraped                         42451 non-null  datetime64[ns]\n",
      " 56  number_of_reviews                             42451 non-null  int64         \n",
      " 57  number_of_reviews_ltm                         42451 non-null  int64         \n",
      " 58  number_of_reviews_l30d                        42451 non-null  int64         \n",
      " 59  first_review                                  30780 non-null  datetime64[ns]\n",
      " 60  last_review                                   30780 non-null  datetime64[ns]\n",
      " 61  review_scores_rating                          30780 non-null  float64       \n",
      " 62  review_scores_accuracy                        30531 non-null  float64       \n",
      " 63  review_scores_cleanliness                     30533 non-null  float64       \n",
      " 64  review_scores_checkin                         30526 non-null  float64       \n",
      " 65  review_scores_communication                   30532 non-null  float64       \n",
      " 66  review_scores_location                        30524 non-null  float64       \n",
      " 67  review_scores_value                           30522 non-null  float64       \n",
      " 68  license                                       11942 non-null  object        \n",
      " 69  instant_bookable                              42451 non-null  object        \n",
      " 70  calculated_host_listings_count                42451 non-null  int64         \n",
      " 71  calculated_host_listings_count_entire_homes   42451 non-null  int64         \n",
      " 72  calculated_host_listings_count_private_rooms  42451 non-null  int64         \n",
      " 73  calculated_host_listings_count_shared_rooms   42451 non-null  int64         \n",
      " 74  reviews_per_month                             30780 non-null  float64       \n",
      "dtypes: datetime64[ns](5), float64(22), int64(17), object(31)\n",
      "memory usage: 24.3+ MB\n"
     ]
    }
   ],
   "source": [
    "listings.info()"
   ]
  },
  {
   "cell_type": "code",
   "execution_count": 54,
   "id": "pRmBeeyr6-rl",
   "metadata": {
    "colab": {
     "base_uri": "https://localhost:8080/"
    },
    "id": "pRmBeeyr6-rl",
    "outputId": "3874ed94-865b-474f-e783-bbe6557405d3"
   },
   "outputs": [
    {
     "data": {
      "text/plain": [
       "0"
      ]
     },
     "execution_count": 54,
     "metadata": {},
     "output_type": "execute_result"
    }
   ],
   "source": [
    "# There are no duplicates in the data\n",
    "\n",
    "listings.duplicated().sum()"
   ]
  },
  {
   "cell_type": "markdown",
   "id": "njuLvWgR2TYo",
   "metadata": {
    "id": "njuLvWgR2TYo"
   },
   "source": [
    "**Location columns EDA** <br>\n",
    "\n",
    "We wil not be using **neighbourhood** column since it has 41% null values. We will Also remove neighbourhood_overview since we are not doing any text analysis in our project. For location we will be  only looking at cleansed, group_cleansed and latitude and longitude columns. <br>\n",
    " 7   neighborhood_overview                         24957 non-null  object        \n",
    " 27  neighbourhood                                 24958 non-null  object        \n",
    " 28  neighbourhood_cleansed                        42451 non-null  object        \n",
    " 29  neighbourhood_group_cleansed                  42451 non-null  object\n",
    " 30  latitude                                      42451 non-null  float64       \n",
    " 31  longitude                                     42451 non-null  float64 "
   ]
  },
  {
   "cell_type": "code",
   "execution_count": 55,
   "id": "oIF5aAjEw2eo",
   "metadata": {
    "id": "oIF5aAjEw2eo"
   },
   "outputs": [],
   "source": [
    "listings.drop(['neighbourhood','neighborhood_overview'], axis=1, inplace=True)"
   ]
  },
  {
   "cell_type": "markdown",
   "id": "PohpB5N_0Z4g",
   "metadata": {
    "id": "PohpB5N_0Z4g"
   },
   "source": [
    "**Dropping records where host name is not available** <br>\n",
    "Where host name is not available, the profile of these host don't exist when we click on the url in the host url section. Therefore couldn't be scraped. <br>\n",
    " 11  host_name                                     42449 non-null  object        \n",
    " 12  host_since                                    42449 non-null  datetime64[ns]"
   ]
  },
  {
   "cell_type": "code",
   "execution_count": 56,
   "id": "4GxV0_i21kgN",
   "metadata": {
    "id": "4GxV0_i21kgN"
   },
   "outputs": [],
   "source": [
    "# Filtering the dataset to exclude rows where host name is blank\n",
    "\n",
    "listings= listings[~listings.host_name.isna()]"
   ]
  },
  {
   "cell_type": "markdown",
   "id": "_eP805cvzkmI",
   "metadata": {
    "id": "_eP805cvzkmI"
   },
   "source": [
    "**number_of_reviews columns EDA**\n",
    "\n",
    " 56  number_of_reviews                             42451 non-null  int64         \n",
    " 57  number_of_reviews_ltm                         42451 non-null  int64         \n",
    " 58  number_of_reviews_l30d                        42451 non-null  int64 \n",
    "\n",
    "number_of_reviews_ltm and number_of_reviews_l30d are nearly same because number of reviews last month and number of reviews in last 30 days. Which is nearly same because the data was scarped on 7th March. Keeping all the 3 columns here since they have non null values and are helpful to price prediciton. "
   ]
  },
  {
   "cell_type": "markdown",
   "id": "JJWfjqS4uML-",
   "metadata": {
    "id": "JJWfjqS4uML-"
   },
   "source": [
    "**Review ratings columns EDA** <br>\n",
    " 61  review_scores_rating                          30780 non-null  float64       \n",
    " 62  review_scores_accuracy                        30531 non-null  float64       \n",
    " 63  review_scores_cleanliness                     30533 non-null  float64       \n",
    " 64  review_scores_checkin                         30526 non-null  float64       \n",
    " 65  review_scores_communication                   30532 non-null  float64       \n",
    " 66  review_scores_location                        30524 non-null  float64       \n",
    " 67  review_scores_value                           30522 non-null  float64\n",
    "\n",
    " If a host has canceled they automatically have rating value. In the review_scores_rating  where the value isn't zero and is like 4.91, 5, these airbnbs belong to airbnb luxe which doesn't have separte ratings like cleanliness, accuracy therefore all these columns are blanks. For the ease of analysis we will not be including hosts which have cancelled or have. Imputing 0 will only refer to those airbnbs which have never been booked. "
   ]
  },
  {
   "cell_type": "code",
   "execution_count": 57,
   "id": "5AoERZ8Qodyb",
   "metadata": {
    "colab": {
     "base_uri": "https://localhost:8080/",
     "height": 1000
    },
    "id": "5AoERZ8Qodyb",
    "outputId": "396d7ae9-a00b-4db9-c129-d3869659287b"
   },
   "outputs": [
    {
     "name": "stderr",
     "output_type": "stream",
     "text": [
      "C:\\Users\\DELL\\AppData\\Local\\Temp\\ipykernel_43652\\4237789636.py:5: UserWarning: \n",
      "\n",
      "`distplot` is a deprecated function and will be removed in seaborn v0.14.0.\n",
      "\n",
      "Please adapt your code to use either `displot` (a figure-level function with\n",
      "similar flexibility) or `kdeplot` (an axes-level function for kernel density plots).\n",
      "\n",
      "For a guide to updating your code to use the new functions, please see\n",
      "https://gist.github.com/mwaskom/de44147ed2974457ad6372750bbe5751\n",
      "\n",
      "  sns.distplot(listings.review_scores_rating, hist=False)\n",
      "C:\\Users\\DELL\\AppData\\Local\\Temp\\ipykernel_43652\\4237789636.py:6: UserWarning: \n",
      "\n",
      "`distplot` is a deprecated function and will be removed in seaborn v0.14.0.\n",
      "\n",
      "Please adapt your code to use either `displot` (a figure-level function with\n",
      "similar flexibility) or `kdeplot` (an axes-level function for kernel density plots).\n",
      "\n",
      "For a guide to updating your code to use the new functions, please see\n",
      "https://gist.github.com/mwaskom/de44147ed2974457ad6372750bbe5751\n",
      "\n",
      "  sns.distplot(listings.review_scores_accuracy, hist=False)\n",
      "C:\\Users\\DELL\\AppData\\Local\\Temp\\ipykernel_43652\\4237789636.py:7: UserWarning: \n",
      "\n",
      "`distplot` is a deprecated function and will be removed in seaborn v0.14.0.\n",
      "\n",
      "Please adapt your code to use either `displot` (a figure-level function with\n",
      "similar flexibility) or `kdeplot` (an axes-level function for kernel density plots).\n",
      "\n",
      "For a guide to updating your code to use the new functions, please see\n",
      "https://gist.github.com/mwaskom/de44147ed2974457ad6372750bbe5751\n",
      "\n",
      "  sns.distplot(listings.review_scores_cleanliness, hist=False)\n",
      "C:\\Users\\DELL\\AppData\\Local\\Temp\\ipykernel_43652\\4237789636.py:8: UserWarning: \n",
      "\n",
      "`distplot` is a deprecated function and will be removed in seaborn v0.14.0.\n",
      "\n",
      "Please adapt your code to use either `displot` (a figure-level function with\n",
      "similar flexibility) or `kdeplot` (an axes-level function for kernel density plots).\n",
      "\n",
      "For a guide to updating your code to use the new functions, please see\n",
      "https://gist.github.com/mwaskom/de44147ed2974457ad6372750bbe5751\n",
      "\n",
      "  sns.distplot(listings.review_scores_checkin, hist=False)\n",
      "C:\\Users\\DELL\\AppData\\Local\\Temp\\ipykernel_43652\\4237789636.py:9: UserWarning: \n",
      "\n",
      "`distplot` is a deprecated function and will be removed in seaborn v0.14.0.\n",
      "\n",
      "Please adapt your code to use either `displot` (a figure-level function with\n",
      "similar flexibility) or `kdeplot` (an axes-level function for kernel density plots).\n",
      "\n",
      "For a guide to updating your code to use the new functions, please see\n",
      "https://gist.github.com/mwaskom/de44147ed2974457ad6372750bbe5751\n",
      "\n",
      "  sns.distplot(listings.review_scores_communication, hist=False)\n",
      "C:\\Users\\DELL\\AppData\\Local\\Temp\\ipykernel_43652\\4237789636.py:10: UserWarning: \n",
      "\n",
      "`distplot` is a deprecated function and will be removed in seaborn v0.14.0.\n",
      "\n",
      "Please adapt your code to use either `displot` (a figure-level function with\n",
      "similar flexibility) or `kdeplot` (an axes-level function for kernel density plots).\n",
      "\n",
      "For a guide to updating your code to use the new functions, please see\n",
      "https://gist.github.com/mwaskom/de44147ed2974457ad6372750bbe5751\n",
      "\n",
      "  sns.distplot(listings.review_scores_location, hist=False)\n",
      "C:\\Users\\DELL\\AppData\\Local\\Temp\\ipykernel_43652\\4237789636.py:11: UserWarning: \n",
      "\n",
      "`distplot` is a deprecated function and will be removed in seaborn v0.14.0.\n",
      "\n",
      "Please adapt your code to use either `displot` (a figure-level function with\n",
      "similar flexibility) or `kdeplot` (an axes-level function for kernel density plots).\n",
      "\n",
      "For a guide to updating your code to use the new functions, please see\n",
      "https://gist.github.com/mwaskom/de44147ed2974457ad6372750bbe5751\n",
      "\n",
      "  sns.distplot(listings.review_scores_value, hist=False)\n"
     ]
    },
    {
     "data": {
      "text/plain": [
       "<AxesSubplot: xlabel='review_scores_value', ylabel='Density'>"
      ]
     },
     "execution_count": 57,
     "metadata": {},
     "output_type": "execute_result"
    },
    {
     "data": {
      "image/png": "[encoded data removed]",
      "text/plain": [
       "<Figure size 640x480 with 1 Axes>"
      ]
     },
     "metadata": {},
     "output_type": "display_data"
    }
   ],
   "source": [
    "# All review columns nearly have the same distribtuion and the density differnce exists due to more missing \n",
    "# records in rest  of the columns compared to review_scores_rating. So we will take only review score rating and\n",
    "# will drop the rest of the columns. \n",
    "\n",
    "sns.distplot(listings.review_scores_rating, hist=False)\n",
    "sns.distplot(listings.review_scores_accuracy, hist=False)\n",
    "sns.distplot(listings.review_scores_cleanliness, hist=False)\n",
    "sns.distplot(listings.review_scores_checkin, hist=False)\n",
    "sns.distplot(listings.review_scores_communication, hist=False)\n",
    "sns.distplot(listings.review_scores_location, hist=False)\n",
    "sns.distplot(listings.review_scores_value, hist=False)\n"
   ]
  },
  {
   "cell_type": "code",
   "execution_count": 58,
   "id": "UuiauCFc9xx-",
   "metadata": {
    "colab": {
     "base_uri": "https://localhost:8080/",
     "height": 612
    },
    "id": "UuiauCFc9xx-",
    "outputId": "c001c41f-586a-41e2-ca5f-c2e8e307f20e"
   },
   "outputs": [
    {
     "data": {
      "text/html": [
       "<div>\n",
       "<style scoped>\n",
       "    .dataframe tbody tr th:only-of-type {\n",
       "        vertical-align: middle;\n",
       "    }\n",
       "\n",
       "    .dataframe tbody tr th {\n",
       "        vertical-align: top;\n",
       "    }\n",
       "\n",
       "    .dataframe thead th {\n",
       "        text-align: right;\n",
       "    }\n",
       "</style>\n",
       "<table border=\"1\" class=\"dataframe\">\n",
       "  <thead>\n",
       "    <tr style=\"text-align: right;\">\n",
       "      <th></th>\n",
       "      <th>id</th>\n",
       "      <th>listing_url</th>\n",
       "      <th>scrape_id</th>\n",
       "      <th>last_scraped</th>\n",
       "      <th>source</th>\n",
       "      <th>name</th>\n",
       "      <th>description</th>\n",
       "      <th>picture_url</th>\n",
       "      <th>host_id</th>\n",
       "      <th>host_url</th>\n",
       "      <th>...</th>\n",
       "      <th>review_scores_communication</th>\n",
       "      <th>review_scores_location</th>\n",
       "      <th>review_scores_value</th>\n",
       "      <th>license</th>\n",
       "      <th>instant_bookable</th>\n",
       "      <th>calculated_host_listings_count</th>\n",
       "      <th>calculated_host_listings_count_entire_homes</th>\n",
       "      <th>calculated_host_listings_count_private_rooms</th>\n",
       "      <th>calculated_host_listings_count_shared_rooms</th>\n",
       "      <th>reviews_per_month</th>\n",
       "    </tr>\n",
       "  </thead>\n",
       "  <tbody>\n",
       "    <tr>\n",
       "      <th>145</th>\n",
       "      <td>39225953</td>\n",
       "      <td>https://www.airbnb.com/rooms/39225953</td>\n",
       "      <td>20230307175359</td>\n",
       "      <td>2023-03-09</td>\n",
       "      <td>city scrape</td>\n",
       "      <td>Super clean, big and comfortable room in LA ce...</td>\n",
       "      <td>NaN</td>\n",
       "      <td>https://a0.muscache.com/pictures/6c3bf299-d37e...</td>\n",
       "      <td>41273097</td>\n",
       "      <td>https://www.airbnb.com/users/show/41273097</td>\n",
       "      <td>...</td>\n",
       "      <td>NaN</td>\n",
       "      <td>NaN</td>\n",
       "      <td>NaN</td>\n",
       "      <td>NaN</td>\n",
       "      <td>t</td>\n",
       "      <td>1</td>\n",
       "      <td>0</td>\n",
       "      <td>0</td>\n",
       "      <td>1</td>\n",
       "      <td>0.02</td>\n",
       "    </tr>\n",
       "    <tr>\n",
       "      <th>478</th>\n",
       "      <td>38883702</td>\n",
       "      <td>https://www.airbnb.com/rooms/38883702</td>\n",
       "      <td>20230307175359</td>\n",
       "      <td>2023-03-08</td>\n",
       "      <td>previous scrape</td>\n",
       "      <td>Private room queen bed</td>\n",
       "      <td>NaN</td>\n",
       "      <td>https://a0.muscache.com/pictures/458495d8-6fff...</td>\n",
       "      <td>296002006</td>\n",
       "      <td>https://www.airbnb.com/users/show/296002006</td>\n",
       "      <td>...</td>\n",
       "      <td>NaN</td>\n",
       "      <td>NaN</td>\n",
       "      <td>NaN</td>\n",
       "      <td>NaN</td>\n",
       "      <td>f</td>\n",
       "      <td>2</td>\n",
       "      <td>0</td>\n",
       "      <td>2</td>\n",
       "      <td>0</td>\n",
       "      <td>0.02</td>\n",
       "    </tr>\n",
       "    <tr>\n",
       "      <th>604</th>\n",
       "      <td>26363881</td>\n",
       "      <td>https://www.airbnb.com/rooms/26363881</td>\n",
       "      <td>20230307175359</td>\n",
       "      <td>2023-03-08</td>\n",
       "      <td>previous scrape</td>\n",
       "      <td>Studio 5 min from Rose Bowl &amp; Oldtown, 20min DLTA</td>\n",
       "      <td>NaN</td>\n",
       "      <td>https://a0.muscache.com/pictures/e4170712-f561...</td>\n",
       "      <td>50016597</td>\n",
       "      <td>https://www.airbnb.com/users/show/50016597</td>\n",
       "      <td>...</td>\n",
       "      <td>NaN</td>\n",
       "      <td>NaN</td>\n",
       "      <td>NaN</td>\n",
       "      <td>NaN</td>\n",
       "      <td>f</td>\n",
       "      <td>1</td>\n",
       "      <td>1</td>\n",
       "      <td>0</td>\n",
       "      <td>0</td>\n",
       "      <td>0.02</td>\n",
       "    </tr>\n",
       "    <tr>\n",
       "      <th>962</th>\n",
       "      <td>33018860</td>\n",
       "      <td>https://www.airbnb.com/rooms/33018860</td>\n",
       "      <td>20230307175359</td>\n",
       "      <td>2023-03-09</td>\n",
       "      <td>city scrape</td>\n",
       "      <td>Architectural Gem Guest House in old town Pasa...</td>\n",
       "      <td>A Historic Monterrey Colonial Revival designed...</td>\n",
       "      <td>https://a0.muscache.com/pictures/584449c6-a4c0...</td>\n",
       "      <td>2088777</td>\n",
       "      <td>https://www.airbnb.com/users/show/2088777</td>\n",
       "      <td>...</td>\n",
       "      <td>NaN</td>\n",
       "      <td>NaN</td>\n",
       "      <td>NaN</td>\n",
       "      <td>NaN</td>\n",
       "      <td>f</td>\n",
       "      <td>1</td>\n",
       "      <td>1</td>\n",
       "      <td>0</td>\n",
       "      <td>0</td>\n",
       "      <td>0.02</td>\n",
       "    </tr>\n",
       "    <tr>\n",
       "      <th>1178</th>\n",
       "      <td>6016761</td>\n",
       "      <td>https://www.airbnb.com/rooms/6016761</td>\n",
       "      <td>20230307175359</td>\n",
       "      <td>2023-03-08</td>\n",
       "      <td>previous scrape</td>\n",
       "      <td>Charming Beverly Hills Getaway</td>\n",
       "      <td>Private and quaint one bedroom in a 3bd 2bath ...</td>\n",
       "      <td>https://a0.muscache.com/pictures/76068227/65e3...</td>\n",
       "      <td>31231073</td>\n",
       "      <td>https://www.airbnb.com/users/show/31231073</td>\n",
       "      <td>...</td>\n",
       "      <td>NaN</td>\n",
       "      <td>NaN</td>\n",
       "      <td>NaN</td>\n",
       "      <td>NaN</td>\n",
       "      <td>f</td>\n",
       "      <td>1</td>\n",
       "      <td>0</td>\n",
       "      <td>1</td>\n",
       "      <td>0</td>\n",
       "      <td>0.01</td>\n",
       "    </tr>\n",
       "  </tbody>\n",
       "</table>\n",
       "<p>5 rows × 73 columns</p>\n",
       "</div>"
      ],
      "text/plain": [
       "            id                            listing_url       scrape_id  \\\n",
       "145   39225953  https://www.airbnb.com/rooms/39225953  20230307175359   \n",
       "478   38883702  https://www.airbnb.com/rooms/38883702  20230307175359   \n",
       "604   26363881  https://www.airbnb.com/rooms/26363881  20230307175359   \n",
       "962   33018860  https://www.airbnb.com/rooms/33018860  20230307175359   \n",
       "1178   6016761   https://www.airbnb.com/rooms/6016761  20230307175359   \n",
       "\n",
       "     last_scraped           source  \\\n",
       "145    2023-03-09      city scrape   \n",
       "478    2023-03-08  previous scrape   \n",
       "604    2023-03-08  previous scrape   \n",
       "962    2023-03-09      city scrape   \n",
       "1178   2023-03-08  previous scrape   \n",
       "\n",
       "                                                   name  \\\n",
       "145   Super clean, big and comfortable room in LA ce...   \n",
       "478                              Private room queen bed   \n",
       "604   Studio 5 min from Rose Bowl & Oldtown, 20min DLTA   \n",
       "962   Architectural Gem Guest House in old town Pasa...   \n",
       "1178                     Charming Beverly Hills Getaway   \n",
       "\n",
       "                                            description  \\\n",
       "145                                                 NaN   \n",
       "478                                                 NaN   \n",
       "604                                                 NaN   \n",
       "962   A Historic Monterrey Colonial Revival designed...   \n",
       "1178  Private and quaint one bedroom in a 3bd 2bath ...   \n",
       "\n",
       "                                            picture_url    host_id  \\\n",
       "145   https://a0.muscache.com/pictures/6c3bf299-d37e...   41273097   \n",
       "478   https://a0.muscache.com/pictures/458495d8-6fff...  296002006   \n",
       "604   https://a0.muscache.com/pictures/e4170712-f561...   50016597   \n",
       "962   https://a0.muscache.com/pictures/584449c6-a4c0...    2088777   \n",
       "1178  https://a0.muscache.com/pictures/76068227/65e3...   31231073   \n",
       "\n",
       "                                         host_url  ...  \\\n",
       "145    https://www.airbnb.com/users/show/41273097  ...   \n",
       "478   https://www.airbnb.com/users/show/296002006  ...   \n",
       "604    https://www.airbnb.com/users/show/50016597  ...   \n",
       "962     https://www.airbnb.com/users/show/2088777  ...   \n",
       "1178   https://www.airbnb.com/users/show/31231073  ...   \n",
       "\n",
       "     review_scores_communication review_scores_location review_scores_value  \\\n",
       "145                          NaN                    NaN                 NaN   \n",
       "478                          NaN                    NaN                 NaN   \n",
       "604                          NaN                    NaN                 NaN   \n",
       "962                          NaN                    NaN                 NaN   \n",
       "1178                         NaN                    NaN                 NaN   \n",
       "\n",
       "     license instant_bookable calculated_host_listings_count  \\\n",
       "145      NaN                t                              1   \n",
       "478      NaN                f                              2   \n",
       "604      NaN                f                              1   \n",
       "962      NaN                f                              1   \n",
       "1178     NaN                f                              1   \n",
       "\n",
       "     calculated_host_listings_count_entire_homes  \\\n",
       "145                                            0   \n",
       "478                                            0   \n",
       "604                                            1   \n",
       "962                                            1   \n",
       "1178                                           0   \n",
       "\n",
       "     calculated_host_listings_count_private_rooms  \\\n",
       "145                                             0   \n",
       "478                                             2   \n",
       "604                                             0   \n",
       "962                                             0   \n",
       "1178                                            1   \n",
       "\n",
       "     calculated_host_listings_count_shared_rooms reviews_per_month  \n",
       "145                                            1              0.02  \n",
       "478                                            0              0.02  \n",
       "604                                            0              0.02  \n",
       "962                                            0              0.02  \n",
       "1178                                           0              0.01  \n",
       "\n",
       "[5 rows x 73 columns]"
      ]
     },
     "execution_count": 58,
     "metadata": {},
     "output_type": "execute_result"
    }
   ],
   "source": [
    "# Example to show that 0 rating means that the host canceled. Will have an automatic response review and therefore the number of \n",
    "# reviews won't be 0. \n",
    "\n",
    "listings[(listings.review_scores_rating==0)].head()"
   ]
  },
  {
   "cell_type": "code",
   "execution_count": 59,
   "id": "89166494",
   "metadata": {
    "id": "89166494"
   },
   "outputs": [],
   "source": [
    "# Price  column cleaning\n",
    "\n",
    "# Code to remove dollar sign and , from prices to turn it from object dtype to float.  \n",
    "\n",
    "listings['price'] = listings['price'].replace({r'\\$':''},regex = True).replace({r',':''},regex = True).astype('float')"
   ]
  },
  {
   "cell_type": "code",
   "execution_count": 60,
   "id": "gBH0Og6Ks_yW",
   "metadata": {
    "colab": {
     "base_uri": "https://localhost:8080/",
     "height": 447
    },
    "id": "gBH0Og6Ks_yW",
    "outputId": "d39ad603-528d-4cb9-e218-c5420ee61d3b"
   },
   "outputs": [
    {
     "data": {
      "text/plain": [
       "<AxesSubplot: >"
      ]
     },
     "execution_count": 60,
     "metadata": {},
     "output_type": "execute_result"
    },
    {
     "data": {
      "image/png": "[encoded data removed]",
      "text/plain": [
       "<Figure size 640x480 with 1 Axes>"
      ]
     },
     "metadata": {},
     "output_type": "display_data"
    }
   ],
   "source": [
    "sns.boxplot(listings.price)"
   ]
  },
  {
   "cell_type": "code",
   "execution_count": 61,
   "id": "typVuZyYhJ3F",
   "metadata": {
    "colab": {
     "base_uri": "https://localhost:8080/",
     "height": 466
    },
    "id": "typVuZyYhJ3F",
    "outputId": "677811dd-5f2e-472f-dfad-1ee0885c7edc"
   },
   "outputs": [
    {
     "data": {
      "text/plain": [
       "<AxesSubplot: xlabel='price', ylabel='Density'>"
      ]
     },
     "execution_count": 61,
     "metadata": {},
     "output_type": "execute_result"
    },
    {
     "data": {
      "image/png": "[encoded data removed]",
      "text/plain": [
       "<Figure size 640x480 with 1 Axes>"
      ]
     },
     "metadata": {},
     "output_type": "display_data"
    }
   ],
   "source": [
    "sns.kdeplot(listings.price)"
   ]
  },
  {
   "cell_type": "code",
   "execution_count": 62,
   "id": "2GG3St7gtJz_",
   "metadata": {
    "colab": {
     "base_uri": "https://localhost:8080/"
    },
    "id": "2GG3St7gtJz_",
    "outputId": "18238a39-9033-4d77-cc99-de1bfcccd264"
   },
   "outputs": [
    {
     "data": {
      "text/plain": [
       "4.845814977973569"
      ]
     },
     "execution_count": 62,
     "metadata": {},
     "output_type": "execute_result"
    }
   ],
   "source": [
    "(listings[listings.price>800].shape[0]/listings.shape[0])*100\n",
    "# Only 4.85% of the listings have prices greater than $800. So we will drop these listings. "
   ]
  },
  {
   "cell_type": "code",
   "execution_count": 63,
   "id": "c2_dHpmkt0e6",
   "metadata": {
    "colab": {
     "base_uri": "https://localhost:8080/"
    },
    "id": "c2_dHpmkt0e6",
    "outputId": "42995c74-f92f-4484-c11c-7fc782443c10"
   },
   "outputs": [
    {
     "name": "stdout",
     "output_type": "stream",
     "text": [
      "<class 'pandas.core.frame.DataFrame'>\n",
      "Int64Index: 40330 entries, 0 to 42450\n",
      "Data columns (total 73 columns):\n",
      " #   Column                                        Non-Null Count  Dtype         \n",
      "---  ------                                        --------------  -----         \n",
      " 0   id                                            40330 non-null  int64         \n",
      " 1   listing_url                                   40330 non-null  object        \n",
      " 2   scrape_id                                     40330 non-null  int64         \n",
      " 3   last_scraped                                  40330 non-null  datetime64[ns]\n",
      " 4   source                                        40330 non-null  object        \n",
      " 5   name                                          40328 non-null  object        \n",
      " 6   description                                   39725 non-null  object        \n",
      " 7   picture_url                                   40330 non-null  object        \n",
      " 8   host_id                                       40330 non-null  int64         \n",
      " 9   host_url                                      40330 non-null  object        \n",
      " 10  host_name                                     40330 non-null  object        \n",
      " 11  host_since                                    40330 non-null  datetime64[ns]\n",
      " 12  host_location                                 32332 non-null  object        \n",
      " 13  host_about                                    23582 non-null  object        \n",
      " 14  host_response_time                            31446 non-null  object        \n",
      " 15  host_response_rate                            31446 non-null  object        \n",
      " 16  host_acceptance_rate                          32458 non-null  object        \n",
      " 17  host_is_superhost                             40304 non-null  object        \n",
      " 18  host_thumbnail_url                            40330 non-null  object        \n",
      " 19  host_picture_url                              40330 non-null  object        \n",
      " 20  host_neighbourhood                            31854 non-null  object        \n",
      " 21  host_listings_count                           40330 non-null  float64       \n",
      " 22  host_total_listings_count                     40330 non-null  float64       \n",
      " 23  host_verifications                            40330 non-null  object        \n",
      " 24  host_has_profile_pic                          40330 non-null  object        \n",
      " 25  host_identity_verified                        40330 non-null  object        \n",
      " 26  neighbourhood_cleansed                        40330 non-null  object        \n",
      " 27  neighbourhood_group_cleansed                  40330 non-null  object        \n",
      " 28  latitude                                      40330 non-null  float64       \n",
      " 29  longitude                                     40330 non-null  float64       \n",
      " 30  property_type                                 40330 non-null  object        \n",
      " 31  room_type                                     40330 non-null  object        \n",
      " 32  accommodates                                  40330 non-null  int64         \n",
      " 33  bathrooms                                     0 non-null      float64       \n",
      " 34  bathrooms_text                                40292 non-null  object        \n",
      " 35  bedrooms                                      36750 non-null  float64       \n",
      " 36  beds                                          39757 non-null  float64       \n",
      " 37  amenities                                     40330 non-null  object        \n",
      " 38  price                                         40330 non-null  float64       \n",
      " 39  minimum_nights                                40330 non-null  int64         \n",
      " 40  maximum_nights                                40330 non-null  int64         \n",
      " 41  minimum_minimum_nights                        40325 non-null  float64       \n",
      " 42  maximum_minimum_nights                        40325 non-null  float64       \n",
      " 43  minimum_maximum_nights                        40325 non-null  float64       \n",
      " 44  maximum_maximum_nights                        40325 non-null  float64       \n",
      " 45  minimum_nights_avg_ntm                        40325 non-null  float64       \n",
      " 46  maximum_nights_avg_ntm                        40325 non-null  float64       \n",
      " 47  calendar_updated                              0 non-null      float64       \n",
      " 48  has_availability                              40330 non-null  object        \n",
      " 49  availability_30                               40330 non-null  int64         \n",
      " 50  availability_60                               40330 non-null  int64         \n",
      " 51  availability_90                               40330 non-null  int64         \n",
      " 52  availability_365                              40330 non-null  int64         \n",
      " 53  calendar_last_scraped                         40330 non-null  datetime64[ns]\n",
      " 54  number_of_reviews                             40330 non-null  int64         \n",
      " 55  number_of_reviews_ltm                         40330 non-null  int64         \n",
      " 56  number_of_reviews_l30d                        40330 non-null  int64         \n",
      " 57  first_review                                  29648 non-null  datetime64[ns]\n",
      " 58  last_review                                   29648 non-null  datetime64[ns]\n",
      " 59  review_scores_rating                          29648 non-null  float64       \n",
      " 60  review_scores_accuracy                        29433 non-null  float64       \n",
      " 61  review_scores_cleanliness                     29435 non-null  float64       \n",
      " 62  review_scores_checkin                         29430 non-null  float64       \n",
      " 63  review_scores_communication                   29434 non-null  float64       \n",
      " 64  review_scores_location                        29428 non-null  float64       \n",
      " 65  review_scores_value                           29426 non-null  float64       \n",
      " 66  license                                       10994 non-null  object        \n",
      " 67  instant_bookable                              40330 non-null  object        \n",
      " 68  calculated_host_listings_count                40330 non-null  int64         \n",
      " 69  calculated_host_listings_count_entire_homes   40330 non-null  int64         \n",
      " 70  calculated_host_listings_count_private_rooms  40330 non-null  int64         \n",
      " 71  calculated_host_listings_count_shared_rooms   40330 non-null  int64         \n",
      " 72  reviews_per_month                             29648 non-null  float64       \n",
      "dtypes: datetime64[ns](5), float64(23), int64(17), object(28)\n",
      "memory usage: 22.8+ MB\n"
     ]
    }
   ],
   "source": [
    "listings= listings[listings.price<800]\n",
    "listings.info()"
   ]
  },
  {
   "cell_type": "markdown",
   "id": "829Oq7UwzNm7",
   "metadata": {
    "id": "829Oq7UwzNm7"
   },
   "source": [
    "**Host Columns EDA**<br>\n",
    "\n",
    "\n",
    " 5   host_id                                       40330 non-null  int64         \n",
    " 6   host_url                                      40330 non-null  object        \n",
    " 7   host_name                                     40330 non-null  object        \n",
    " 8   host_since                                    40330 non-null  datetime64[ns]\n",
    "\n",
    " 9   host_location                                 32332 non-null  object        \n",
    " 10  host_about                                    23582 non-null  object        \n",
    " 11  host_response_time                            31446 non-null  object        \n",
    " 12  host_response_rate                            31446 non-null  object        \n",
    " 13  host_acceptance_rate                          32458 non-null  object        \n",
    " 14  host_is_superhost                             40304 non-null  object        \n",
    " 15  host_thumbnail_url                            40330 non-null  object        \n",
    " 16  host_picture_url                              40330 non-null  object        \n",
    " 17  host_neighbourhood                            31854 non-null  object        \n",
    " 18  host_listings_count                           40330 non-null  float64       \n",
    " 19  host_total_listings_count                     40330 non-null  float64       \n",
    " 20  host_verifications                            40330 non-null  object        \n",
    " 21  host_has_profile_pic                          40330 non-null  object        \n",
    " 22  host_identity_verified                        40330 non-null  object\n",
    "\n",
    " Out of these columns, we are choosing only host identiy verifies, host_is_superhost"
   ]
  },
  {
   "cell_type": "code",
   "execution_count": 64,
   "id": "4564fdf7",
   "metadata": {
    "colab": {
     "base_uri": "https://localhost:8080/"
    },
    "id": "4564fdf7",
    "outputId": "4eb7d7b9-f0b1-4ac1-e0fb-0f66508c45d7"
   },
   "outputs": [
    {
     "data": {
      "text/plain": [
       "(104,)"
      ]
     },
     "execution_count": 64,
     "metadata": {},
     "output_type": "execute_result"
    }
   ],
   "source": [
    "# Property type has a number of values so we will not split by Property type \n",
    "\n",
    "listings.property_type.value_counts().shape                         "
   ]
  },
  {
   "cell_type": "code",
   "execution_count": 65,
   "id": "60083c7f",
   "metadata": {
    "colab": {
     "base_uri": "https://localhost:8080/"
    },
    "id": "60083c7f",
    "outputId": "6b624b1d-588f-48b9-f9e3-9413688a85b6"
   },
   "outputs": [
    {
     "data": {
      "text/plain": [
       "Entire home/apt    27515\n",
       "Private room       12053\n",
       "Shared room          684\n",
       "Hotel room            78\n",
       "Name: room_type, dtype: int64"
      ]
     },
     "execution_count": 65,
     "metadata": {},
     "output_type": "execute_result"
    }
   ],
   "source": [
    "#Room type has a less cardinality so we will split data by room type \n",
    "\n",
    "listings.room_type.value_counts()"
   ]
  },
  {
   "cell_type": "code",
   "execution_count": 66,
   "id": "2be09aeb",
   "metadata": {
    "colab": {
     "base_uri": "https://localhost:8080/",
     "height": 345
    },
    "id": "2be09aeb",
    "outputId": "21847803-4217-4e15-9787-d1a832538476"
   },
   "outputs": [],
   "source": [
    "# removing some columns which are either completely blank or not useful to the analysis\n",
    "\n",
    "listings.drop(columns=['id', 'scrape_id', 'last_scraped', 'source', 'bathrooms', 'calendar_updated'], inplace=True)"
   ]
  },
  {
   "cell_type": "code",
   "execution_count": 67,
   "id": "cd5d7dd2",
   "metadata": {
    "colab": {
     "base_uri": "https://localhost:8080/"
    },
    "id": "cd5d7dd2",
    "outputId": "92a3b2b1-1ada-450e-b8b5-44848db1e87b"
   },
   "outputs": [
    {
     "name": "stdout",
     "output_type": "stream",
     "text": [
      "<class 'pandas.core.frame.DataFrame'>\n",
      "Int64Index: 40330 entries, 0 to 42450\n",
      "Data columns (total 67 columns):\n",
      " #   Column                                        Non-Null Count  Dtype         \n",
      "---  ------                                        --------------  -----         \n",
      " 0   listing_url                                   40330 non-null  object        \n",
      " 1   name                                          40328 non-null  object        \n",
      " 2   description                                   39725 non-null  object        \n",
      " 3   picture_url                                   40330 non-null  object        \n",
      " 4   host_id                                       40330 non-null  int64         \n",
      " 5   host_url                                      40330 non-null  object        \n",
      " 6   host_name                                     40330 non-null  object        \n",
      " 7   host_since                                    40330 non-null  datetime64[ns]\n",
      " 8   host_location                                 32332 non-null  object        \n",
      " 9   host_about                                    23582 non-null  object        \n",
      " 10  host_response_time                            31446 non-null  object        \n",
      " 11  host_response_rate                            31446 non-null  object        \n",
      " 12  host_acceptance_rate                          32458 non-null  object        \n",
      " 13  host_is_superhost                             40304 non-null  object        \n",
      " 14  host_thumbnail_url                            40330 non-null  object        \n",
      " 15  host_picture_url                              40330 non-null  object        \n",
      " 16  host_neighbourhood                            31854 non-null  object        \n",
      " 17  host_listings_count                           40330 non-null  float64       \n",
      " 18  host_total_listings_count                     40330 non-null  float64       \n",
      " 19  host_verifications                            40330 non-null  object        \n",
      " 20  host_has_profile_pic                          40330 non-null  object        \n",
      " 21  host_identity_verified                        40330 non-null  object        \n",
      " 22  neighbourhood_cleansed                        40330 non-null  object        \n",
      " 23  neighbourhood_group_cleansed                  40330 non-null  object        \n",
      " 24  latitude                                      40330 non-null  float64       \n",
      " 25  longitude                                     40330 non-null  float64       \n",
      " 26  property_type                                 40330 non-null  object        \n",
      " 27  room_type                                     40330 non-null  object        \n",
      " 28  accommodates                                  40330 non-null  int64         \n",
      " 29  bathrooms_text                                40292 non-null  object        \n",
      " 30  bedrooms                                      36750 non-null  float64       \n",
      " 31  beds                                          39757 non-null  float64       \n",
      " 32  amenities                                     40330 non-null  object        \n",
      " 33  price                                         40330 non-null  float64       \n",
      " 34  minimum_nights                                40330 non-null  int64         \n",
      " 35  maximum_nights                                40330 non-null  int64         \n",
      " 36  minimum_minimum_nights                        40325 non-null  float64       \n",
      " 37  maximum_minimum_nights                        40325 non-null  float64       \n",
      " 38  minimum_maximum_nights                        40325 non-null  float64       \n",
      " 39  maximum_maximum_nights                        40325 non-null  float64       \n",
      " 40  minimum_nights_avg_ntm                        40325 non-null  float64       \n",
      " 41  maximum_nights_avg_ntm                        40325 non-null  float64       \n",
      " 42  has_availability                              40330 non-null  object        \n",
      " 43  availability_30                               40330 non-null  int64         \n",
      " 44  availability_60                               40330 non-null  int64         \n",
      " 45  availability_90                               40330 non-null  int64         \n",
      " 46  availability_365                              40330 non-null  int64         \n",
      " 47  calendar_last_scraped                         40330 non-null  datetime64[ns]\n",
      " 48  number_of_reviews                             40330 non-null  int64         \n",
      " 49  number_of_reviews_ltm                         40330 non-null  int64         \n",
      " 50  number_of_reviews_l30d                        40330 non-null  int64         \n",
      " 51  first_review                                  29648 non-null  datetime64[ns]\n",
      " 52  last_review                                   29648 non-null  datetime64[ns]\n",
      " 53  review_scores_rating                          29648 non-null  float64       \n",
      " 54  review_scores_accuracy                        29433 non-null  float64       \n",
      " 55  review_scores_cleanliness                     29435 non-null  float64       \n",
      " 56  review_scores_checkin                         29430 non-null  float64       \n",
      " 57  review_scores_communication                   29434 non-null  float64       \n",
      " 58  review_scores_location                        29428 non-null  float64       \n",
      " 59  review_scores_value                           29426 non-null  float64       \n",
      " 60  license                                       10994 non-null  object        \n",
      " 61  instant_bookable                              40330 non-null  object        \n",
      " 62  calculated_host_listings_count                40330 non-null  int64         \n",
      " 63  calculated_host_listings_count_entire_homes   40330 non-null  int64         \n",
      " 64  calculated_host_listings_count_private_rooms  40330 non-null  int64         \n",
      " 65  calculated_host_listings_count_shared_rooms   40330 non-null  int64         \n",
      " 66  reviews_per_month                             29648 non-null  float64       \n",
      "dtypes: datetime64[ns](4), float64(21), int64(15), object(27)\n",
      "memory usage: 20.9+ MB\n"
     ]
    }
   ],
   "source": [
    "listings.info()"
   ]
  },
  {
   "cell_type": "code",
   "execution_count": 68,
   "id": "7b71fc4e",
   "metadata": {
    "id": "7b71fc4e"
   },
   "outputs": [],
   "source": [
    "df_null = pd.DataFrame(listings.isna().sum()).reset_index()"
   ]
  },
  {
   "cell_type": "code",
   "execution_count": 69,
   "id": "ac9d6e0c",
   "metadata": {
    "colab": {
     "base_uri": "https://localhost:8080/",
     "height": 423
    },
    "id": "ac9d6e0c",
    "outputId": "aa4f2fc8-6777-4c72-c885-5e08fa8e3e20"
   },
   "outputs": [
    {
     "data": {
      "text/html": [
       "<div>\n",
       "<style scoped>\n",
       "    .dataframe tbody tr th:only-of-type {\n",
       "        vertical-align: middle;\n",
       "    }\n",
       "\n",
       "    .dataframe tbody tr th {\n",
       "        vertical-align: top;\n",
       "    }\n",
       "\n",
       "    .dataframe thead th {\n",
       "        text-align: right;\n",
       "    }\n",
       "</style>\n",
       "<table border=\"1\" class=\"dataframe\">\n",
       "  <thead>\n",
       "    <tr style=\"text-align: right;\">\n",
       "      <th></th>\n",
       "      <th>Column name</th>\n",
       "      <th>Number of missings</th>\n",
       "    </tr>\n",
       "  </thead>\n",
       "  <tbody>\n",
       "    <tr>\n",
       "      <th>0</th>\n",
       "      <td>listing_url</td>\n",
       "      <td>0</td>\n",
       "    </tr>\n",
       "    <tr>\n",
       "      <th>1</th>\n",
       "      <td>name</td>\n",
       "      <td>2</td>\n",
       "    </tr>\n",
       "    <tr>\n",
       "      <th>2</th>\n",
       "      <td>description</td>\n",
       "      <td>605</td>\n",
       "    </tr>\n",
       "    <tr>\n",
       "      <th>3</th>\n",
       "      <td>picture_url</td>\n",
       "      <td>0</td>\n",
       "    </tr>\n",
       "    <tr>\n",
       "      <th>4</th>\n",
       "      <td>host_id</td>\n",
       "      <td>0</td>\n",
       "    </tr>\n",
       "    <tr>\n",
       "      <th>...</th>\n",
       "      <td>...</td>\n",
       "      <td>...</td>\n",
       "    </tr>\n",
       "    <tr>\n",
       "      <th>62</th>\n",
       "      <td>calculated_host_listings_count</td>\n",
       "      <td>0</td>\n",
       "    </tr>\n",
       "    <tr>\n",
       "      <th>63</th>\n",
       "      <td>calculated_host_listings_count_entire_homes</td>\n",
       "      <td>0</td>\n",
       "    </tr>\n",
       "    <tr>\n",
       "      <th>64</th>\n",
       "      <td>calculated_host_listings_count_private_rooms</td>\n",
       "      <td>0</td>\n",
       "    </tr>\n",
       "    <tr>\n",
       "      <th>65</th>\n",
       "      <td>calculated_host_listings_count_shared_rooms</td>\n",
       "      <td>0</td>\n",
       "    </tr>\n",
       "    <tr>\n",
       "      <th>66</th>\n",
       "      <td>reviews_per_month</td>\n",
       "      <td>10682</td>\n",
       "    </tr>\n",
       "  </tbody>\n",
       "</table>\n",
       "<p>67 rows × 2 columns</p>\n",
       "</div>"
      ],
      "text/plain": [
       "                                     Column name  Number of missings\n",
       "0                                    listing_url                   0\n",
       "1                                           name                   2\n",
       "2                                    description                 605\n",
       "3                                    picture_url                   0\n",
       "4                                        host_id                   0\n",
       "..                                           ...                 ...\n",
       "62                calculated_host_listings_count                   0\n",
       "63   calculated_host_listings_count_entire_homes                   0\n",
       "64  calculated_host_listings_count_private_rooms                   0\n",
       "65   calculated_host_listings_count_shared_rooms                   0\n",
       "66                             reviews_per_month               10682\n",
       "\n",
       "[67 rows x 2 columns]"
      ]
     },
     "execution_count": 69,
     "metadata": {},
     "output_type": "execute_result"
    }
   ],
   "source": [
    "df_null.columns = ['Column name', 'Number of missings']\n",
    "df_null"
   ]
  },
  {
   "cell_type": "code",
   "execution_count": 70,
   "id": "YjI6ScZd7pvH",
   "metadata": {
    "colab": {
     "base_uri": "https://localhost:8080/"
    },
    "id": "YjI6ScZd7pvH",
    "outputId": "6e0ecb58-aae8-4caf-8ccd-c9db6054f32d"
   },
   "outputs": [
    {
     "data": {
      "text/plain": [
       "within an hour        24905\n",
       "within a few hours     4048\n",
       "within a day           1950\n",
       "a few days or more      543\n",
       "Name: host_response_time, dtype: int64"
      ]
     },
     "execution_count": 70,
     "metadata": {},
     "output_type": "execute_result"
    }
   ],
   "source": [
    "listings.host_response_time.value_counts()"
   ]
  },
  {
   "cell_type": "markdown",
   "id": "twjwSfQl1iUG",
   "metadata": {
    "id": "twjwSfQl1iUG"
   },
   "source": [
    "**license column EDA**"
   ]
  },
  {
   "cell_type": "code",
   "execution_count": 9,
   "id": "4a6d31f8",
   "metadata": {},
   "outputs": [
    {
     "data": {
      "text/plain": [
       "30509"
      ]
     },
     "execution_count": 9,
     "metadata": {},
     "output_type": "execute_result"
    }
   ],
   "source": [
    "listings.license.isna().sum()"
   ]
  },
  {
   "cell_type": "code",
   "execution_count": 8,
   "id": "a275bc2a",
   "metadata": {
    "colab": {
     "base_uri": "https://localhost:8080/"
    },
    "id": "a275bc2a",
    "outputId": "c3bac311-4922-4d91-e678-b000ccb2e50e"
   },
   "outputs": [
    {
     "data": {
      "text/plain": [
       "Exempt - This listing is a transient occupancy residential structure    2419\n",
       "Exempt - This listing is a bed and breakfast                             470\n",
       "Exempt                                                                   439\n",
       "Exempt - This listing is a hotel or motel                                246\n",
       "HSR19-004485                                                              26\n",
       "                                                                        ... \n",
       "HSR21-003258                                                               1\n",
       "NRP21-00283                                                                1\n",
       "HSR21-003343                                                               1\n",
       "HSR19-005452                                                               1\n",
       "HSR23-000454                                                               1\n",
       "Name: license, Length: 6766, dtype: int64"
      ]
     },
     "execution_count": 8,
     "metadata": {},
     "output_type": "execute_result"
    }
   ],
   "source": [
    "listings.license.value_counts()"
   ]
  },
  {
   "cell_type": "code",
   "execution_count": 72,
   "id": "1bdd7f0f",
   "metadata": {
    "colab": {
     "base_uri": "https://localhost:8080/",
     "height": 466
    },
    "id": "1bdd7f0f",
    "outputId": "2472c1d3-6917-4582-b571-3b0910610e9e"
   },
   "outputs": [
    {
     "data": {
      "text/plain": [
       "<AxesSubplot: xlabel='room_type', ylabel='price'>"
      ]
     },
     "execution_count": 72,
     "metadata": {},
     "output_type": "execute_result"
    },
    {
     "data": {
      "image/png": "[encoded data removed]",
      "text/plain": [
       "<Figure size 640x480 with 1 Axes>"
      ]
     },
     "metadata": {},
     "output_type": "display_data"
    }
   ],
   "source": [
    "# create grouped boxplot \n",
    "sns.boxplot(x = listings.room_type,\n",
    "            y = listings.price,\n",
    "            )\n",
    "# Clearly Entire home apt have higher price than any other room type."
   ]
  },
  {
   "cell_type": "code",
   "execution_count": 73,
   "id": "e2c4a840",
   "metadata": {
    "id": "e2c4a840"
   },
   "outputs": [],
   "source": [
    "# Creating a license colum to check effect on price \n",
    "# Have to also include extemped in 0 category \n",
    "\n",
    "\n",
    "listings['license_yn']= pd.Series(np.where(((listings.license.isna()) | (listings.license.str.lower().str.contains('exempt', regex=True))),0,1))"
   ]
  },
  {
   "cell_type": "code",
   "execution_count": 74,
   "id": "c1bc77be",
   "metadata": {
    "colab": {
     "base_uri": "https://localhost:8080/"
    },
    "id": "c1bc77be",
    "outputId": "c338e4b8-42af-46b2-959e-27e025248d1a"
   },
   "outputs": [
    {
     "data": {
      "text/plain": [
       "0.0    31234\n",
       "1.0     7109\n",
       "Name: license_yn, dtype: int64"
      ]
     },
     "execution_count": 74,
     "metadata": {},
     "output_type": "execute_result"
    }
   ],
   "source": [
    "listings.license_yn.value_counts()"
   ]
  },
  {
   "cell_type": "code",
   "execution_count": 75,
   "id": "f98ab32a",
   "metadata": {
    "id": "f98ab32a"
   },
   "outputs": [],
   "source": [
    "# Creating datasets based on different room types: \n",
    "\n",
    "df_private= listings[listings.room_type=='Private room']\n",
    "df_entire= listings[listings.room_type=='Entire home/apt']\n",
    "df_shared= listings[listings.room_type=='Shared room']\n",
    "df_hotel= listings[listings.room_type=='Hotel room']"
   ]
  },
  {
   "cell_type": "code",
   "execution_count": 76,
   "id": "a6db6a49",
   "metadata": {
    "colab": {
     "base_uri": "https://localhost:8080/",
     "height": 467
    },
    "id": "a6db6a49",
    "outputId": "c131cc03-5d83-4626-f4e6-b71fe128d41f",
    "scrolled": true
   },
   "outputs": [
    {
     "data": {
      "text/plain": [
       "<AxesSubplot: xlabel='license_yn', ylabel='price'>"
      ]
     },
     "execution_count": 76,
     "metadata": {},
     "output_type": "execute_result"
    },
    {
     "data": {
      "image/png": "[encoded data removed]",
      "text/plain": [
       "<Figure size 640x480 with 1 Axes>"
      ]
     },
     "metadata": {},
     "output_type": "display_data"
    }
   ],
   "source": [
    "sns.boxplot(x=df_private.license_yn, y=df_private.price)"
   ]
  },
  {
   "cell_type": "code",
   "execution_count": 77,
   "id": "2d7e6dfa",
   "metadata": {
    "colab": {
     "base_uri": "https://localhost:8080/",
     "height": 467
    },
    "id": "2d7e6dfa",
    "outputId": "a5a9f3af-a85d-48f6-8702-ee89453d7b13"
   },
   "outputs": [
    {
     "data": {
      "text/plain": [
       "<AxesSubplot: xlabel='license_yn', ylabel='price'>"
      ]
     },
     "execution_count": 77,
     "metadata": {},
     "output_type": "execute_result"
    },
    {
     "data": {
      "image/png": "[encoded data removed]",
      "text/plain": [
       "<Figure size 640x480 with 1 Axes>"
      ]
     },
     "metadata": {},
     "output_type": "display_data"
    }
   ],
   "source": [
    "sns.boxplot(x=df_hotel.license_yn, y=df_hotel.price)"
   ]
  },
  {
   "cell_type": "code",
   "execution_count": 78,
   "id": "4425ced6",
   "metadata": {
    "colab": {
     "base_uri": "https://localhost:8080/",
     "height": 467
    },
    "id": "4425ced6",
    "outputId": "44b8c729-2a86-4492-c240-0d1ac55c9355"
   },
   "outputs": [
    {
     "data": {
      "text/plain": [
       "<AxesSubplot: xlabel='license_yn', ylabel='price'>"
      ]
     },
     "execution_count": 78,
     "metadata": {},
     "output_type": "execute_result"
    },
    {
     "data": {
      "image/png": "[encoded data removed]",
      "text/plain": [
       "<Figure size 640x480 with 1 Axes>"
      ]
     },
     "metadata": {},
     "output_type": "display_data"
    }
   ],
   "source": [
    "sns.boxplot(x=df_shared.license_yn, y=df_shared.price)"
   ]
  },
  {
   "cell_type": "code",
   "execution_count": 79,
   "id": "6b5f786f",
   "metadata": {
    "colab": {
     "base_uri": "https://localhost:8080/",
     "height": 467
    },
    "id": "6b5f786f",
    "outputId": "3e78730b-a11d-471c-a854-c7caf1e9106c"
   },
   "outputs": [
    {
     "data": {
      "text/plain": [
       "<AxesSubplot: xlabel='license_yn', ylabel='price'>"
      ]
     },
     "execution_count": 79,
     "metadata": {},
     "output_type": "execute_result"
    },
    {
     "data": {
      "image/png": "[encoded data removed]",
      "text/plain": [
       "<Figure size 640x480 with 1 Axes>"
      ]
     },
     "metadata": {},
     "output_type": "display_data"
    }
   ],
   "source": [
    "sns.boxplot(x=df_entire.license_yn, y=df_entire.price)"
   ]
  },
  {
   "cell_type": "code",
   "execution_count": 80,
   "id": "8GyU2N3sBEsL",
   "metadata": {
    "id": "8GyU2N3sBEsL"
   },
   "outputs": [],
   "source": [
    "# Cleaning the name column which has hotel in the name but has private room in datatype\n",
    "\n",
    "listings.room_type= np.where(listings.name.str.lower().str.contains('motel', regex=False) == True,'Hotel room', listings.room_type)\n",
    "listings.room_type= np.where(listings.name.str.lower().str.contains('hotel', regex=False) == True,'Hotel room', listings.room_type)\n"
   ]
  },
  {
   "cell_type": "code",
   "execution_count": 81,
   "id": "eb89c29b",
   "metadata": {
    "colab": {
     "base_uri": "https://localhost:8080/"
    },
    "id": "eb89c29b",
    "outputId": "498c3705-5515-4f2f-e107-fa6358849271"
   },
   "outputs": [
    {
     "data": {
      "text/plain": [
       "Index(['listing_url', 'name', 'description', 'picture_url', 'host_id',\n",
       "       'host_url', 'host_name', 'host_since', 'host_location', 'host_about',\n",
       "       'host_response_time', 'host_response_rate', 'host_acceptance_rate',\n",
       "       'host_is_superhost', 'host_thumbnail_url', 'host_picture_url',\n",
       "       'host_neighbourhood', 'host_listings_count',\n",
       "       'host_total_listings_count', 'host_verifications',\n",
       "       'host_has_profile_pic', 'host_identity_verified',\n",
       "       'neighbourhood_cleansed', 'neighbourhood_group_cleansed', 'latitude',\n",
       "       'longitude', 'property_type', 'room_type', 'accommodates',\n",
       "       'bathrooms_text', 'bedrooms', 'beds', 'amenities', 'price',\n",
       "       'minimum_nights', 'maximum_nights', 'minimum_minimum_nights',\n",
       "       'maximum_minimum_nights', 'minimum_maximum_nights',\n",
       "       'maximum_maximum_nights', 'minimum_nights_avg_ntm',\n",
       "       'maximum_nights_avg_ntm', 'has_availability', 'availability_30',\n",
       "       'availability_60', 'availability_90', 'availability_365',\n",
       "       'calendar_last_scraped', 'number_of_reviews', 'number_of_reviews_ltm',\n",
       "       'number_of_reviews_l30d', 'first_review', 'last_review',\n",
       "       'review_scores_rating', 'review_scores_accuracy',\n",
       "       'review_scores_cleanliness', 'review_scores_checkin',\n",
       "       'review_scores_communication', 'review_scores_location',\n",
       "       'review_scores_value', 'license', 'instant_bookable',\n",
       "       'calculated_host_listings_count',\n",
       "       'calculated_host_listings_count_entire_homes',\n",
       "       'calculated_host_listings_count_private_rooms',\n",
       "       'calculated_host_listings_count_shared_rooms', 'reviews_per_month',\n",
       "       'license_yn'],\n",
       "      dtype='object')"
      ]
     },
     "execution_count": 81,
     "metadata": {},
     "output_type": "execute_result"
    }
   ],
   "source": [
    "\n",
    "listings.columns"
   ]
  },
  {
   "cell_type": "markdown",
   "id": "BNOpdw881-WZ",
   "metadata": {
    "id": "BNOpdw881-WZ"
   },
   "source": [
    "**Important columns for pricing based on seller perspective for prices  from\n",
    "the above EDA:**\n",
    "\n",
    "1. For identification<br>\n",
    "'id', 'listing_url', 'name'\n",
    "\n",
    "2. Host related columns<br>\n",
    " 'host_id','host_url', 'host_name','host_has_profile_pic', 'host_identity_verified', 'host_is_superhost', host_verifications\n",
    "\n",
    "3. Location wise<br>\n",
    "'latitude', 'longitude', 'neighbourhood_cleansed', 'neighbourhood_group_cleansed'\n",
    "\n",
    "4. Based on property:<br>\n",
    "'bedrooms', 'beds', 'property_type', 'room_type', 'accommodates', license_yn, \n",
    "'amenities', 'price, 'maximum_nights', 'minimum_minimum_nights', instant_bookable                              \n",
    "\n",
    "5. Based on reviews<br>\n",
    "'number_of_reviews','number_of_reviews_ltm','review_scores_value', 'number_of_reviews_l30d', 'review_scores_accuracy','review_scores_cleanliness', 'review_scores_checkin','review_scores_communication','review_scores_location', \n",
    "'reviews_per_month'\n",
    "\n",
    "6. Number of listings by host<br>\n",
    "'calculated_host_listings_count', 'calculated_host_listings_count_entire_homes',\n",
    " 'calculated_host_listings_count_private_rooms', 'calculated_host_listings_count_shared_rooms'"
   ]
  },
  {
   "cell_type": "code",
   "execution_count": 82,
   "id": "q7GV4Mig4zne",
   "metadata": {
    "id": "q7GV4Mig4zne"
   },
   "outputs": [],
   "source": [
    "listings= listings[~listings.beds.isna()&~listings.reviews_per_month.isna()&~listings.review_scores_accuracy.isna()&~listings.review_scores_checkin.isna()\n",
    "         &~listings.review_scores_communication.isna()&~listings.review_scores_location.isna()&~listings.review_scores_value.isna()]"
   ]
  },
  {
   "cell_type": "code",
   "execution_count": null,
   "id": "3zoNtpVTDvR6",
   "metadata": {
    "id": "3zoNtpVTDvR6"
   },
   "outputs": [],
   "source": [
    "listings= listings[['id', 'listing_url','name','host_id', 'host_url', 'host_name', 'host_since',  'host_verifications',\n",
    "       'host_has_profile_pic', 'host_identity_verified', 'neighbourhood_cleansed', 'neighbourhood_group_cleansed', 'latitude',\n",
    "       'longitude', 'property_type', 'room_type', 'accommodates', 'bedrooms', 'beds', 'amenities', 'price',\n",
    "       'minimum_nights', 'maximum_nights','has_availability',\n",
    "       'availability_30', 'availability_60', 'availability_90',\n",
    "       'availability_365','number_of_reviews',\n",
    "       'number_of_reviews_ltm', 'number_of_reviews_l30d', 'first_review',\n",
    "       'last_review', 'review_scores_rating', 'review_scores_accuracy',\n",
    "       'review_scores_cleanliness', 'review_scores_checkin',\n",
    "       'review_scores_communication', 'review_scores_location',\n",
    "       'review_scores_value', 'license', 'instant_bookable', 'calculated_host_listings_count',\n",
    "       'calculated_host_listings_count_entire_homes',\n",
    "       'calculated_host_listings_count_private_rooms',\n",
    "       'calculated_host_listings_count_shared_rooms', 'reviews_per_month', 'license_yn']]"
   ]
  },
  {
   "cell_type": "code",
   "execution_count": 84,
   "id": "KDE1QsfqDmRh",
   "metadata": {
    "colab": {
     "base_uri": "https://localhost:8080/"
    },
    "id": "KDE1QsfqDmRh",
    "outputId": "dd63e8f6-a1ba-4e79-9816-4cc5e2f2bcd4"
   },
   "outputs": [
    {
     "data": {
      "text/plain": [
       "(29053, 68)"
      ]
     },
     "execution_count": 84,
     "metadata": {},
     "output_type": "execute_result"
    }
   ],
   "source": [
    "# We have reduced the number of columns from 75 to 68 and kept columns which are useful to our analysis. \n",
    "\n",
    "listings.shape"
   ]
  },
  {
   "cell_type": "code",
   "execution_count": 86,
   "id": "2K34Vnk8Dmb0",
   "metadata": {
    "id": "2K34Vnk8Dmb0"
   },
   "outputs": [
    {
     "name": "stdout",
     "output_type": "stream",
     "text": [
      "<class 'pandas.core.frame.DataFrame'>\n",
      "Int64Index: 29053 entries, 1 to 42450\n",
      "Data columns (total 68 columns):\n",
      " #   Column                                        Non-Null Count  Dtype         \n",
      "---  ------                                        --------------  -----         \n",
      " 0   listing_url                                   29053 non-null  object        \n",
      " 1   name                                          29053 non-null  object        \n",
      " 2   description                                   28766 non-null  object        \n",
      " 3   picture_url                                   29053 non-null  object        \n",
      " 4   host_id                                       29053 non-null  int64         \n",
      " 5   host_url                                      29053 non-null  object        \n",
      " 6   host_name                                     29053 non-null  object        \n",
      " 7   host_since                                    29053 non-null  datetime64[ns]\n",
      " 8   host_location                                 23995 non-null  object        \n",
      " 9   host_about                                    17631 non-null  object        \n",
      " 10  host_response_time                            23668 non-null  object        \n",
      " 11  host_response_rate                            23668 non-null  object        \n",
      " 12  host_acceptance_rate                          24767 non-null  object        \n",
      " 13  host_is_superhost                             29046 non-null  object        \n",
      " 14  host_thumbnail_url                            29053 non-null  object        \n",
      " 15  host_picture_url                              29053 non-null  object        \n",
      " 16  host_neighbourhood                            22759 non-null  object        \n",
      " 17  host_listings_count                           29053 non-null  float64       \n",
      " 18  host_total_listings_count                     29053 non-null  float64       \n",
      " 19  host_verifications                            29053 non-null  object        \n",
      " 20  host_has_profile_pic                          29053 non-null  object        \n",
      " 21  host_identity_verified                        29053 non-null  object        \n",
      " 22  neighbourhood_cleansed                        29053 non-null  object        \n",
      " 23  neighbourhood_group_cleansed                  29053 non-null  object        \n",
      " 24  latitude                                      29053 non-null  float64       \n",
      " 25  longitude                                     29053 non-null  float64       \n",
      " 26  property_type                                 29053 non-null  object        \n",
      " 27  room_type                                     29053 non-null  object        \n",
      " 28  accommodates                                  29053 non-null  int64         \n",
      " 29  bathrooms_text                                29042 non-null  object        \n",
      " 30  bedrooms                                      26288 non-null  float64       \n",
      " 31  beds                                          29053 non-null  float64       \n",
      " 32  amenities                                     29053 non-null  object        \n",
      " 33  price                                         29053 non-null  float64       \n",
      " 34  minimum_nights                                29053 non-null  int64         \n",
      " 35  maximum_nights                                29053 non-null  int64         \n",
      " 36  minimum_minimum_nights                        29053 non-null  float64       \n",
      " 37  maximum_minimum_nights                        29053 non-null  float64       \n",
      " 38  minimum_maximum_nights                        29053 non-null  float64       \n",
      " 39  maximum_maximum_nights                        29053 non-null  float64       \n",
      " 40  minimum_nights_avg_ntm                        29053 non-null  float64       \n",
      " 41  maximum_nights_avg_ntm                        29053 non-null  float64       \n",
      " 42  has_availability                              29053 non-null  object        \n",
      " 43  availability_30                               29053 non-null  int64         \n",
      " 44  availability_60                               29053 non-null  int64         \n",
      " 45  availability_90                               29053 non-null  int64         \n",
      " 46  availability_365                              29053 non-null  int64         \n",
      " 47  calendar_last_scraped                         29053 non-null  datetime64[ns]\n",
      " 48  number_of_reviews                             29053 non-null  int64         \n",
      " 49  number_of_reviews_ltm                         29053 non-null  int64         \n",
      " 50  number_of_reviews_l30d                        29053 non-null  int64         \n",
      " 51  first_review                                  29053 non-null  datetime64[ns]\n",
      " 52  last_review                                   29053 non-null  datetime64[ns]\n",
      " 53  review_scores_rating                          29053 non-null  float64       \n",
      " 54  review_scores_accuracy                        29053 non-null  float64       \n",
      " 55  review_scores_cleanliness                     29053 non-null  float64       \n",
      " 56  review_scores_checkin                         29053 non-null  float64       \n",
      " 57  review_scores_communication                   29053 non-null  float64       \n",
      " 58  review_scores_location                        29053 non-null  float64       \n",
      " 59  review_scores_value                           29053 non-null  float64       \n",
      " 60  license                                       8055 non-null   object        \n",
      " 61  instant_bookable                              29053 non-null  object        \n",
      " 62  calculated_host_listings_count                29053 non-null  int64         \n",
      " 63  calculated_host_listings_count_entire_homes   29053 non-null  int64         \n",
      " 64  calculated_host_listings_count_private_rooms  29053 non-null  int64         \n",
      " 65  calculated_host_listings_count_shared_rooms   29053 non-null  int64         \n",
      " 66  reviews_per_month                             29053 non-null  float64       \n",
      " 67  license_yn                                    27696 non-null  float64       \n",
      "dtypes: datetime64[ns](4), float64(22), int64(15), object(27)\n",
      "memory usage: 15.3+ MB\n"
     ]
    }
   ],
   "source": [
    "listings.info()"
   ]
  },
  {
   "cell_type": "code",
   "execution_count": 99,
   "id": "1ceb3e5c",
   "metadata": {},
   "outputs": [],
   "source": [
    "top_10_neigbourhood= listings.groupby('neighbourhood_cleansed').price.sum().reset_index().sort_values(['price'], ascending=False).head(10)"
   ]
  },
  {
   "cell_type": "code",
   "execution_count": 133,
   "id": "4d0f7809",
   "metadata": {},
   "outputs": [
    {
     "data": {
      "text/plain": [
       "Text(0, 0.5, 'Price')"
      ]
     },
     "execution_count": 133,
     "metadata": {},
     "output_type": "execute_result"
    },
    {
     "data": {
      "image/png": "[encoded data removed]",
      "text/plain": [
       "<Figure size 1400x500 with 1 Axes>"
      ]
     },
     "metadata": {},
     "output_type": "display_data"
    }
   ],
   "source": [
    "plt.figure(figsize=(14,5))\n",
    "\n",
    "sns.barplot(x=top_10_neigbourhood.neighbourhood_cleansed,y=top_10_neigbourhood.price, color='#1f77b4', width=0.5)\n",
    "\n",
    "plt.xlabel('Neighbourhood')\n",
    "plt.ylabel('Price')"
   ]
  },
  {
   "cell_type": "code",
   "execution_count": null,
   "id": "b9b15517",
   "metadata": {},
   "outputs": [],
   "source": []
  }
 ],
 "metadata": {
  "colab": {
   "gpuType": "T4",
   "provenance": []
  },
  "kernelspec": {
   "display_name": "Python 3 (ipykernel)",
   "language": "python",
   "name": "python3"
  },
  "language_info": {
   "codemirror_mode": {
    "name": "ipython",
    "version": 3
   },
   "file_extension": ".py",
   "mimetype": "text/x-python",
   "name": "python",
   "nbconvert_exporter": "python",
   "pygments_lexer": "ipython3",
   "version": "3.10.9"
  }
 },
 "nbformat": 4,
 "nbformat_minor": 5
}
